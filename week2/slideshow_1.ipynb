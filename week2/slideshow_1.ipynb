{
 "cells": [
  {
   "cell_type": "markdown",
   "metadata": {
    "slideshow": {
     "slide_type": "slide"
    }
   },
   "source": [
    "# Data visualization - week 1, part A\n",
    "\n",
    "![](images/cover.png)"
   ]
  },
  {
   "cell_type": "markdown",
   "metadata": {
    "slideshow": {
     "slide_type": "slide"
    }
   },
   "source": [
    "# Justification for the module"
   ]
  },
  {
   "cell_type": "markdown",
   "metadata": {
    "slideshow": {
     "slide_type": "fragment"
    }
   },
   "source": [
    "* in  the  digital  era,  we  are  bombarded  by  humongous  streams  of  information"
   ]
  },
  {
   "cell_type": "markdown",
   "metadata": {
    "slideshow": {
     "slide_type": "fragment"
    }
   },
   "source": [
    "* sometimes,  these 'inputs' are  not  interesting  enough  to  breach  the  defensive  barriers  that  protect  our  attention"
   ]
  },
  {
   "cell_type": "markdown",
   "metadata": {
    "slideshow": {
     "slide_type": "fragment"
    }
   },
   "source": [
    "* other  times,  what  we  are  exposed  to  seems  valuable  but we  do  not  see  any  neat,  meaningful  pattern  in  it"
   ]
  },
  {
   "cell_type": "markdown",
   "metadata": {
    "slideshow": {
     "slide_type": "fragment"
    }
   },
   "source": [
    "* what  messengers  and  audiences  need  'to  click'  is - often-times - just  a  simple,  effective  visualization"
   ]
  },
  {
   "cell_type": "markdown",
   "metadata": {
    "slideshow": {
     "slide_type": "slide"
    }
   },
   "source": [
    "#  Scope of the module"
   ]
  },
  {
   "cell_type": "markdown",
   "metadata": {
    "slideshow": {
     "slide_type": "fragment"
    }
   },
   "source": [
    "* this  module  is  a  journey  into  the  art  and  science  of  creating  memorable  charts,  which  grab the  attention  of  the  audience  and  successfully  convey  insights  and  narratives"
   ]
  },
  {
   "cell_type": "markdown",
   "metadata": {
    "slideshow": {
     "slide_type": "fragment"
    }
   },
   "source": [
    "* infographic - i.e.,  the  field  that  investigates  the  representation  of information,  data,  and  knowledge—will  offer  the  theoretical  platform  for  the  module"
   ]
  },
  {
   "cell_type": "markdown",
   "metadata": {
    "slideshow": {
     "slide_type": "fragment"
    }
   },
   "source": [
    "* Python will  make  things  happen  (at  least  on  our  screen)"
   ]
  },
  {
   "cell_type": "markdown",
   "metadata": {
    "slideshow": {
     "slide_type": "slide"
    }
   },
   "source": [
    "#  Learning objectives"
   ]
  },
  {
   "cell_type": "markdown",
   "metadata": {
    "slideshow": {
     "slide_type": "fragment"
    }
   },
   "source": [
    "* generate  and  evaluate  visual  forms  for  appropriateness,  context,  and  meaning"
   ]
  },
  {
   "cell_type": "markdown",
   "metadata": {
    "slideshow": {
     "slide_type": "fragment"
    }
   },
   "source": [
    "* design  and  execute  statical  charts  with  a  particular  emphasis  on  massive  datasets"
   ]
  },
  {
   "cell_type": "markdown",
   "metadata": {
    "slideshow": {
     "slide_type": "fragment"
    }
   },
   "source": [
    "* design  and  execute  complex  visualizations  involving  timeliness  and  geospatial  attributes"
   ]
  },
  {
   "cell_type": "markdown",
   "metadata": {
    "slideshow": {
     "slide_type": "fragment"
    }
   },
   "source": [
    "* design  and  execute  interactive  visualizations"
   ]
  },
  {
   "cell_type": "markdown",
   "metadata": {
    "slideshow": {
     "slide_type": "fragment"
    }
   },
   "source": [
    "* leverage  the  visualization  capabilities  of  the  Python  libraries  Matplotlib  and  Bokeh"
   ]
  },
  {
   "cell_type": "markdown",
   "metadata": {
    "slideshow": {
     "slide_type": "slide"
    }
   },
   "source": [
    "# Infographics and data visualization: Friends or foes?"
   ]
  },
  {
   "cell_type": "markdown",
   "metadata": {
    "slideshow": {
     "slide_type": "subslide"
    }
   },
   "source": [
    "# On the Road, by Jack Kerouac\n",
    "\n",
    "![](images/on_the_road.png)\n",
    "\n",
    "*Source:* http://www.stefanieposavec.com/"
   ]
  },
  {
   "cell_type": "markdown",
   "metadata": {
    "slideshow": {
     "slide_type": "subslide"
    }
   },
   "source": [
    "# Cross country data on the GDP - inequality relationship\n",
    "\n",
    "![](images/simple_scatter.png)\n",
    "\n",
    "*Source:* IMF working paper\n",
    "\n",
    "*Notes:* the Gini coefficient is a measure of statistical dispersion intended to represent the income or wealth distribution of nation's residents."
   ]
  },
  {
   "cell_type": "markdown",
   "metadata": {
    "slideshow": {
     "slide_type": "subslide"
    }
   },
   "source": [
    "# Inequality and economic growth in Argentina\n",
    "\n",
    "![alt text](images/storyline.webp)\n",
    "\n",
    "*Source*: Banco Mundial\n",
    "\n",
    "*Notes:* the [Gini coefficient](https://en.wikipedia.org/wiki/Gini_coefficient) is a measure of statistical dispersion intended to represent the income or wealth distribution of nation's residents."
   ]
  },
  {
   "cell_type": "markdown",
   "metadata": {
    "slideshow": {
     "slide_type": "slide"
    }
   },
   "source": [
    "# Infographic - visualization tensions\n",
    "\n",
    "* infographic has been largely associated with 'presentation'\n",
    "* visualization has been largely associated with 'exploration'\n",
    "\n",
    "But it's time to move on―let's try to marry these approaches."
   ]
  },
  {
   "cell_type": "markdown",
   "metadata": {
    "slideshow": {
     "slide_type": "slide"
    }
   },
   "source": [
    "*Graphics, charts, and maps aren't just tools to be seen, but to be read and scrutinized*\n",
    "\n",
    "E. Cairo (2012, page XX)"
   ]
  },
  {
   "cell_type": "markdown",
   "metadata": {
    "slideshow": {
     "slide_type": "slide"
    }
   },
   "source": [
    "# The visualization journey: From information to wisdom\n",
    "\n",
    "![](images/information_wisdom_gap.png)\n",
    "\n",
    "*Source*: Cairo (2012, page 16)"
   ]
  },
  {
   "cell_type": "markdown",
   "metadata": {
    "slideshow": {
     "slide_type": "subslide"
    }
   },
   "source": [
    "# Visualization as technology\n",
    "\n",
    "* visualizations are extension of ourselves\n",
    "* they are means to an end\n",
    "\n",
    "As such, visualiuzations should help us audiences to accomplish certain tasks"
   ]
  },
  {
   "cell_type": "markdown",
   "metadata": {
    "slideshow": {
     "slide_type": "subslide"
    }
   },
   "source": [
    "# Visualization: Design imperatives\n",
    "\n",
    "* \"form follows function\"\n",
    "* learn to anticipate the expectations of the audience"
   ]
  },
  {
   "cell_type": "markdown",
   "metadata": {},
   "source": [
    "# Example 1\n",
    "\n",
    "Key question for the audience: What task is this one intended to help me with?\n",
    "\n",
    "![](images/defense_south_america.png)\n",
    "\n",
    "*Source:* Folha de Sao Paulo"
   ]
  },
  {
   "cell_type": "markdown",
   "metadata": {
    "slideshow": {
     "slide_type": "subslide"
    }
   },
   "source": [
    "# Example 2\n",
    "\n",
    "![](images/wsj.png)\n",
    "\n",
    "Source: WSJ"
   ]
  },
  {
   "cell_type": "markdown",
   "metadata": {
    "slideshow": {
     "slide_type": "slide"
    }
   },
   "source": [
    "# What's ugly visualization? What's beauty?"
   ]
  },
  {
   "cell_type": "markdown",
   "metadata": {
    "slideshow": {
     "slide_type": "subslide"
    }
   },
   "source": [
    "# Is this too complex?\n",
    "\n",
    "![alt text](images/too_complex.png)\n",
    "\n",
    "Source: Cairo (2012)"
   ]
  },
  {
   "cell_type": "markdown",
   "metadata": {
    "slideshow": {
     "slide_type": "slide"
    }
   },
   "source": [
    "# De gustibus non est disputandum\n",
    "\n",
    "![](images/valuation.jpg)"
   ]
  },
  {
   "cell_type": "markdown",
   "metadata": {
    "slideshow": {
     "slide_type": "slide"
    }
   },
   "source": [
    "# Quality is socially constructed!\n",
    "\n",
    "![](images/salganick_et_al.png)"
   ]
  },
  {
   "cell_type": "markdown",
   "metadata": {
    "slideshow": {
     "slide_type": "slide"
    }
   },
   "source": [
    "# The visualization wheel\n",
    "\n",
    "![alt text](images/visualization_wheel.png)\n",
    "\n",
    "*Source*: Cairo 2012"
   ]
  },
  {
   "cell_type": "markdown",
   "metadata": {
    "slideshow": {
     "slide_type": "slide"
    }
   },
   "source": [
    "# Notes on the visualization wheel\n",
    "\n",
    "The visualization wheel's axes correspond to the main features you need to balance when you design an information graphic. For this reason, I also refer to it as the tension wheel.\n",
    "\n",
    "The other layer is divided into two emispheres, each with six features. The upper hemisphere's features define graphics that are deeper and more complex. By complex I mean the amount of effort readers have to invest in deciphering a particular graphic. Depth is the number of layers of information a graphic includes."
   ]
  },
  {
   "cell_type": "markdown",
   "metadata": {},
   "source": [
    "# Individual dimensions of the visualization wheel (1/2)\n",
    "\n",
    "\n",
    "+ **abstraction-figuration**: an information graphic is completely figurative when the relationship between the referent and its representation is perfectly mimetic. The more distant the representation and its referent are, the more abstract the infographic will be: For example, a realistic illustration of a person is more figurative than a pictorial symbol of the person.\n",
    "\n",
    "+ **functionality-decoration**: this axis refers to the inclusion of visual elements that are not directly used to enhance the comprehension of the material\n",
    "\n",
    "+ **density-lightness**: this is the amount of data it displays in relation to the space it uses"
   ]
  },
  {
   "cell_type": "markdown",
   "metadata": {},
   "source": [
    "# Individual dimensions of the visualization wheel (2/2)\n",
    "\n",
    "+ **multidimensionality-unidimensionality**: this axis is a measure of two related variables: the number of layers of depth a graphic lets readers navigate, and the different forms it uses to encode the data. 'Example 2' fairly represents multidimensional infographic. The popular vote is represented by country and population density. The electoral vote is shown state by state in a standard colormap *and* in a *cartogram*\n",
    "\n",
    "+ **originality-familiarity**: some graphics forms (e.g., 'the barchart') are so common that they are almost as readable as text. However, the explosion of the use of information graphics and visualization in many areas has fueled a desire to innovate in new graphical forms. An example of a form that today some people would find new or challenging is theme rivers (see example).\n",
    "\n",
    "+ **novelty-redundancy**: an information graphic can explain many different things once (novelty) or it can explain the same things several times, by different means (redundancy). Striking a balance between novelty and redundancy is critical."
   ]
  },
  {
   "cell_type": "markdown",
   "metadata": {},
   "source": [
    "# Professional backgrounds and \"taste\"\n",
    "\n",
    "![](images/professional_back.png)\n",
    "\n",
    "*Source:* Cairo (2012, page 62)"
   ]
  },
  {
   "cell_type": "markdown",
   "metadata": {
    "slideshow": {
     "slide_type": "subslide"
    }
   },
   "source": [
    "# Designers encode, users decode\n",
    "\n",
    "![alt text](images/encode_decode.png)\n",
    "\n",
    "*Source:* Cairo (2012)"
   ]
  },
  {
   "cell_type": "markdown",
   "metadata": {
    "slideshow": {
     "slide_type": "subslide"
    }
   },
   "source": [
    "# Professional backgrounds and \"taste\"\n",
    "\n",
    "![alt text](professional_back.png)\n",
    "\n",
    "*Source:* Cairo (2012)"
   ]
  },
  {
   "cell_type": "markdown",
   "metadata": {
    "slideshow": {
     "slide_type": "subslide"
    }
   },
   "source": [
    "# Is this weird?\n",
    "\n",
    "![](images/diamonds.jpg)\n",
    "\n",
    "*Source:* USA Today"
   ]
  },
  {
   "cell_type": "markdown",
   "metadata": {
    "slideshow": {
     "slide_type": "subslide"
    }
   },
   "source": [
    "# When the epistemological battle started\n",
    "\n",
    "![alt text](https://i.pinimg.com/originals/b7/88/f9/b788f9584d7a2b140cc80be12f7d85d2.jpg)"
   ]
  },
  {
   "cell_type": "markdown",
   "metadata": {
    "slideshow": {
     "slide_type": "subslide"
    }
   },
   "source": [
    "# Tufte's key visualization principle: Maximise data-ink ratio\n",
    "\n",
    "![](images/data_ink_ratio.png)\n",
    "\n",
    "*Source*: Tufte 2001"
   ]
  },
  {
   "cell_type": "markdown",
   "metadata": {
    "slideshow": {
     "slide_type": "subslide"
    }
   },
   "source": [
    "# Junkchart Vs Tufte's minimalistic approach\n",
    "\n",
    "![alt text](images/tufte_revision.png)"
   ]
  }
 ],
 "metadata": {
  "celltoolbar": "Slideshow",
  "hide_input": false,
  "kernelspec": {
   "display_name": "Python 3",
   "language": "python",
   "name": "python3"
  },
  "language_info": {
   "codemirror_mode": {
    "name": "ipython",
    "version": 3
   },
   "file_extension": ".py",
   "mimetype": "text/x-python",
   "name": "python",
   "nbconvert_exporter": "python",
   "pygments_lexer": "ipython3",
   "version": "3.8.3"
  },
  "latex_envs": {
   "LaTeX_envs_menu_present": true,
   "autoclose": false,
   "autocomplete": true,
   "bibliofile": "biblio.bib",
   "cite_by": "apalike",
   "current_citInitial": 1,
   "eqLabelWithNumbers": true,
   "eqNumInitial": 1,
   "hotkeys": {
    "equation": "Ctrl-E",
    "itemize": "Ctrl-I"
   },
   "labels_anchors": false,
   "latex_user_defs": false,
   "report_style_numbering": false,
   "user_envs_cfg": false
  },
  "nbTranslate": {
   "displayLangs": [
    "*"
   ],
   "hotkey": "alt-t",
   "langInMainMenu": true,
   "sourceLang": "en",
   "targetLang": "fr",
   "useGoogleTranslate": true
  },
  "toc": {
   "base_numbering": 1,
   "nav_menu": {},
   "number_sections": false,
   "sideBar": false,
   "skip_h1_title": false,
   "title_cell": "Table of Contents",
   "title_sidebar": "Contents",
   "toc_cell": false,
   "toc_position": {
    "height": "885px",
    "left": "101px",
    "top": "298.1px",
    "width": "203px"
   },
   "toc_section_display": false,
   "toc_window_display": false
  },
  "varInspector": {
   "cols": {
    "lenName": 16,
    "lenType": 16,
    "lenVar": 40
   },
   "kernels_config": {
    "python": {
     "delete_cmd_postfix": "",
     "delete_cmd_prefix": "del ",
     "library": "var_list.py",
     "varRefreshCmd": "print(var_dic_list())"
    },
    "r": {
     "delete_cmd_postfix": ") ",
     "delete_cmd_prefix": "rm(",
     "library": "var_list.r",
     "varRefreshCmd": "cat(var_dic_list()) "
    }
   },
   "types_to_exclude": [
    "module",
    "function",
    "builtin_function_or_method",
    "instance",
    "_Feature"
   ],
   "window_display": false
  }
 },
 "nbformat": 4,
 "nbformat_minor": 2
}
