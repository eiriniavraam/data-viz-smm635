{
 "cells": [
  {
   "cell_type": "markdown",
   "metadata": {
    "slideshow": {
     "slide_type": "slide"
    }
   },
   "source": [
    "# Data visualization ― week 2, part B\n",
    "\n",
    "![](https://i.pinimg.com/originals/5b/d6/d1/5bd6d1d5e04087d84a80d603d10fc078.png)\n",
    "\n",
    "*Source:* NYT"
   ]
  },
  {
   "cell_type": "markdown",
   "metadata": {
    "slideshow": {
     "slide_type": "slide"
    }
   },
   "source": [
    "# Exploratory statistical charts ― agenda\n",
    "\n",
    "- frequencies\n",
    "- univariate distributions\n",
    "- bivariate distributions\n",
    "- 3D distributions"
   ]
  },
  {
   "cell_type": "markdown",
   "metadata": {
    "slideshow": {
     "slide_type": "slide"
    }
   },
   "source": [
    "# Exploratory statistical charts ― why?"
   ]
  },
  {
   "cell_type": "markdown",
   "metadata": {
    "slideshow": {
     "slide_type": "fragment"
    }
   },
   "source": [
    "* why do we use exploratory statistical charts?\n",
    "    - exploration?\n",
    "    - presentation?\n",
    "    - both?"
   ]
  },
  {
   "cell_type": "markdown",
   "metadata": {
    "slideshow": {
     "slide_type": "fragment"
    }
   },
   "source": [
    "* who are the 'consumers' of exploratory statistical charts?"
   ]
  },
  {
   "cell_type": "markdown",
   "metadata": {
    "slideshow": {
     "slide_type": "fragment"
    }
   },
   "source": [
    "* what are the most common forms of exploratory statistical charts?"
   ]
  },
  {
   "cell_type": "markdown",
   "metadata": {
    "slideshow": {
     "slide_type": "slide"
    }
   },
   "source": [
    "# Design principles for statistical charts\n",
    "\n",
    "![](https://i.pinimg.com/originals/b7/88/f9/b788f9584d7a2b140cc80be12f7d85d2.jpg)"
   ]
  },
  {
   "cell_type": "markdown",
   "metadata": {
    "slideshow": {
     "slide_type": "subslide"
    }
   },
   "source": [
    "*\"The conditions under which many data graphics are produces―the lack of substantive and quantitative skills of the illustrators, dislike of quantitative evidence, and the contempt for the intelligence of the audience―guarantee graphic mediocrity.\"*\n",
    "\n",
    "*\"These conditions engender graphics that (1) lie; (2) employ only the simplest designs; (3) miss the real news actually in the data\"*\n",
    "\n",
    "\n",
    "Tufte (2001, page 87)"
   ]
  },
  {
   "cell_type": "markdown",
   "metadata": {
    "ExecuteTime": {
     "end_time": "2018-10-10T19:41:40.118861Z",
     "start_time": "2018-10-10T19:41:40.111943Z"
    },
    "slideshow": {
     "slide_type": "slide"
    }
   },
   "source": [
    "# Graphical excellence according to Tufte\n",
    "\n",
    "*\"Excellence in statistical graphics consists of complex ideas communicated with clarity, precision, and efficiency\".*\n",
    "\n",
    "Graphical displays should:\n",
    "\n",
    "* induce the viewer to think about the substance rather than about the methodology, graphic design [omitted] or something else\n",
    "* serve a reasonable clear purpose: description, exploration, tabulation or decoration\n",
    "* show the data\n",
    "* avoid distorting what the data have to say\n",
    "* reveal the data at several levels of detail, from a broad overview to the fine structure\n",
    "* be closely integrated with the statistical and verbal description of the dataset"
   ]
  },
  {
   "cell_type": "markdown",
   "metadata": {
    "slideshow": {
     "slide_type": "subslide"
    }
   },
   "source": [
    "# Show data variation, not design variation\n",
    "\n",
    "![](images/design_variation.png)\n",
    "\n",
    "*Source:* NSF, Science Indicators, 1974 (1976, page 15)"
   ]
  },
  {
   "cell_type": "markdown",
   "metadata": {
    "slideshow": {
     "slide_type": "subslide"
    }
   },
   "source": [
    "# Avoid distorting what the data have to say: Published chart\n",
    "\n",
    "![](images/nys_exp_0.png)\n",
    "\n",
    "*Source:* NYT (February 1, 1976)"
   ]
  },
  {
   "cell_type": "markdown",
   "metadata": {
    "slideshow": {
     "slide_type": "subslide"
    }
   },
   "source": [
    "# Avoid distorting what the data have to say: Spot not so clever tricks\n",
    "\n",
    "![](images/nys_exp_1.png)\n",
    "\n",
    "*Source:* NYT (February 1, 1976)"
   ]
  },
  {
   "cell_type": "markdown",
   "metadata": {
    "slideshow": {
     "slide_type": "subslide"
    }
   },
   "source": [
    "# Avoid distorting what the data have to say: For real\n",
    "\n",
    "![](images/nys_exp_2.png)\n",
    "\n",
    "*Source:* Tufte (2001)"
   ]
  },
  {
   "cell_type": "markdown",
   "metadata": {
    "slideshow": {
     "slide_type": "subslide"
    }
   },
   "source": [
    "# Avoid distorting what the data have to say: The lie factor\n",
    "\n",
    "$\n",
    "Lie \\ factor = \\frac{size \\ of \\ the \\ effect \\ shown \\ in \\ graphic}{size \\ of \\ the \\ effect \\ in \\ data}\n",
    "$\n",
    "\n",
    "![](images/oil_price.png)"
   ]
  },
  {
   "cell_type": "markdown",
   "metadata": {
    "slideshow": {
     "slide_type": "subslide"
    }
   },
   "source": [
    "# Tufte's conclusions about n-dimensional charts\n",
    "\n",
    "\"The use of two (or three) varying dimensions to show one-dimensional data is a weak and inefficient technique, capable of handling very small datasets, often with error in design and ambiguity in perception.\"\n",
    "\n",
    "\"The number of information-carrying (variable) dimensions should not exceed the number of dimensions in the data\""
   ]
  },
  {
   "cell_type": "markdown",
   "metadata": {
    "slideshow": {
     "slide_type": "subslide"
    }
   },
   "source": [
    "# How to use n-dimensional charts consistently\n",
    "\n",
    "![](images/postal_saving_books.png)\n",
    "\n",
    "*Source:* Gabaglio (1888)"
   ]
  },
  {
   "cell_type": "markdown",
   "metadata": {
    "slideshow": {
     "slide_type": "subslide"
    }
   },
   "source": [
    "# Five principles to reveal the data"
   ]
  },
  {
   "cell_type": "markdown",
   "metadata": {
    "slideshow": {
     "slide_type": "fragment"
    }
   },
   "source": [
    "<center>Abobve all else show the data.</center>"
   ]
  },
  {
   "cell_type": "markdown",
   "metadata": {
    "slideshow": {
     "slide_type": "fragment"
    }
   },
   "source": [
    "<center>Maximise the data-ink ratio.</center>"
   ]
  },
  {
   "cell_type": "markdown",
   "metadata": {
    "slideshow": {
     "slide_type": "fragment"
    }
   },
   "source": [
    "<center>Erase non-data-ink.</center>"
   ]
  },
  {
   "cell_type": "markdown",
   "metadata": {
    "slideshow": {
     "slide_type": "fragment"
    }
   },
   "source": [
    "<center>Erase redundant-data-ink.</center>"
   ]
  },
  {
   "cell_type": "markdown",
   "metadata": {
    "slideshow": {
     "slide_type": "fragment"
    }
   },
   "source": [
    "<center>Revise and edit.</center>"
   ]
  },
  {
   "cell_type": "markdown",
   "metadata": {
    "slideshow": {
     "slide_type": "subslide"
    }
   },
   "source": [
    "# Maximize data-ink ratio: Redesigning the boxplot"
   ]
  },
  {
   "cell_type": "markdown",
   "metadata": {
    "cell_style": "split",
    "slideshow": {
     "slide_type": "fragment"
    }
   },
   "source": [
    "![](images/boxplot_0.png)"
   ]
  },
  {
   "cell_type": "markdown",
   "metadata": {
    "cell_style": "split",
    "slideshow": {
     "slide_type": "fragment"
    }
   },
   "source": [
    "![](images/boxplot_1.png)"
   ]
  },
  {
   "cell_type": "markdown",
   "metadata": {
    "slideshow": {
     "slide_type": "subslide"
    }
   },
   "source": [
    "# Maximize data-ink ratio: Redesigning the barchart"
   ]
  },
  {
   "cell_type": "markdown",
   "metadata": {
    "cell_style": "split",
    "slideshow": {
     "slide_type": "fragment"
    }
   },
   "source": [
    "![](images/barchart_0.png)"
   ]
  },
  {
   "cell_type": "markdown",
   "metadata": {
    "cell_style": "split",
    "slideshow": {
     "slide_type": "fragment"
    }
   },
   "source": [
    "![](images/barchart_1.png)"
   ]
  },
  {
   "cell_type": "markdown",
   "metadata": {
    "slideshow": {
     "slide_type": "subslide"
    }
   },
   "source": [
    "# Maximize data-ink ratio: Redesigning the scatter"
   ]
  },
  {
   "cell_type": "markdown",
   "metadata": {
    "cell_style": "split",
    "slideshow": {
     "slide_type": "fragment"
    }
   },
   "source": [
    "![](images/scatter_0.png)"
   ]
  },
  {
   "cell_type": "markdown",
   "metadata": {
    "cell_style": "split",
    "slideshow": {
     "slide_type": "fragment"
    }
   },
   "source": [
    "![](images/scatter_1.png)"
   ]
  },
  {
   "cell_type": "markdown",
   "metadata": {
    "slideshow": {
     "slide_type": "slide"
    }
   },
   "source": [
    "# Are Tufte-adjusted charts 'better'?\n",
    "\n",
    "![](images/is_tufte_style_better.png)"
   ]
  },
  {
   "cell_type": "markdown",
   "metadata": {
    "cell_style": "split",
    "slideshow": {
     "slide_type": "fragment"
    }
   },
   "source": [
    "# Looking for some sources of inspiration?\n",
    "\n",
    "![](images/journal_of_visualization.jpg)"
   ]
  },
  {
   "cell_type": "markdown",
   "metadata": {
    "cell_style": "split",
    "slideshow": {
     "slide_type": "fragment"
    }
   },
   "source": [
    "# Looking for some sources of inspiration?\n",
    "\n",
    "![](images/ieee.jpg)"
   ]
  },
  {
   "cell_type": "markdown",
   "metadata": {
    "slideshow": {
     "slide_type": "slide"
    }
   },
   "source": [
    "# Visualizing frequencies"
   ]
  },
  {
   "cell_type": "markdown",
   "metadata": {
    "slideshow": {
     "slide_type": "fragment"
    }
   },
   "source": [
    "* candidate visual forms:\n",
    "    - bar chart\n",
    "    - pie/donut chart"
   ]
  },
  {
   "cell_type": "markdown",
   "metadata": {
    "slideshow": {
     "slide_type": "fragment"
    }
   },
   "source": [
    "* premises:\n",
    "    - data should have grouping structure (e.g., reviews nested in products)\n",
    "    - the grouping structure should be meaningful"
   ]
  },
  {
   "cell_type": "markdown",
   "metadata": {
    "slideshow": {
     "slide_type": "fragment"
    }
   },
   "source": [
    "* common mistakes:\n",
    "    - frequencies shouldn't be used when continuous variables (e.g., product price) are available\n",
    "    - in fact, many bar charts are based on ad-hoc, discretized variables (e.g., bins of price, such as £ 1 - 5)"
   ]
  },
  {
   "cell_type": "markdown",
   "metadata": {
    "slideshow": {
     "slide_type": "slide"
    }
   },
   "source": [
    "# Visualizing monovariate distributions"
   ]
  },
  {
   "cell_type": "markdown",
   "metadata": {
    "slideshow": {
     "slide_type": "fragment"
    }
   },
   "source": [
    "* candidate visual forms:\n",
    "    - histograms\n",
    "    - boxplots "
   ]
  },
  {
   "cell_type": "markdown",
   "metadata": {
    "slideshow": {
     "slide_type": "fragment"
    }
   },
   "source": [
    "* premises:\n",
    "    - data on a continuous variable (e.g., product prices) are available"
   ]
  },
  {
   "cell_type": "markdown",
   "metadata": {
    "slideshow": {
     "slide_type": "fragment"
    }
   },
   "source": [
    "* common mistakes:\n",
    "    - histograms based on too many or too few bins \n",
    "    - outliers/long tails making the overall distribution gloomy"
   ]
  },
  {
   "cell_type": "markdown",
   "metadata": {
    "slideshow": {
     "slide_type": "slide"
    }
   },
   "source": [
    "# Visualizing bivariate distributions"
   ]
  },
  {
   "cell_type": "markdown",
   "metadata": {
    "slideshow": {
     "slide_type": "fragment"
    }
   },
   "source": [
    "* candidate visual forms:\n",
    "    - scatter diagram\n",
    "    - 2d histogram"
   ]
  },
  {
   "cell_type": "markdown",
   "metadata": {
    "slideshow": {
     "slide_type": "fragment"
    }
   },
   "source": [
    "* premises:\n",
    "    - data on two continuous variables (e.g., product prices) are available"
   ]
  },
  {
   "cell_type": "markdown",
   "metadata": {
    "slideshow": {
     "slide_type": "fragment"
    }
   },
   "source": [
    "* common mistakes:\n",
    "    - overplotting―there are too many datapoints; the visualization is too dense\n",
    "    - imbalance between the fine structure of the data and the larger pattern"
   ]
  }
 ],
 "metadata": {
  "celltoolbar": "Slideshow",
  "hide_input": false,
  "kernelspec": {
   "display_name": "Python 3",
   "language": "python",
   "name": "python3"
  },
  "language_info": {
   "codemirror_mode": {
    "name": "ipython",
    "version": 3
   },
   "file_extension": ".py",
   "mimetype": "text/x-python",
   "name": "python",
   "nbconvert_exporter": "python",
   "pygments_lexer": "ipython3",
   "version": "3.8.3"
  },
  "latex_envs": {
   "LaTeX_envs_menu_present": true,
   "autoclose": false,
   "autocomplete": true,
   "bibliofile": "biblio.bib",
   "cite_by": "apalike",
   "current_citInitial": 1,
   "eqLabelWithNumbers": true,
   "eqNumInitial": 1,
   "hotkeys": {
    "equation": "Ctrl-E",
    "itemize": "Ctrl-I"
   },
   "labels_anchors": false,
   "latex_user_defs": false,
   "report_style_numbering": false,
   "user_envs_cfg": false
  },
  "nbTranslate": {
   "displayLangs": [
    "*"
   ],
   "hotkey": "alt-t",
   "langInMainMenu": true,
   "sourceLang": "en",
   "targetLang": "fr",
   "useGoogleTranslate": true
  },
  "toc": {
   "base_numbering": 1,
   "nav_menu": {},
   "number_sections": false,
   "sideBar": true,
   "skip_h1_title": false,
   "title_cell": "Table of Contents",
   "title_sidebar": "Contents",
   "toc_cell": false,
   "toc_position": {},
   "toc_section_display": true,
   "toc_window_display": false
  },
  "varInspector": {
   "cols": {
    "lenName": 16,
    "lenType": 16,
    "lenVar": 40
   },
   "kernels_config": {
    "python": {
     "delete_cmd_postfix": "",
     "delete_cmd_prefix": "del ",
     "library": "var_list.py",
     "varRefreshCmd": "print(var_dic_list())"
    },
    "r": {
     "delete_cmd_postfix": ") ",
     "delete_cmd_prefix": "rm(",
     "library": "var_list.r",
     "varRefreshCmd": "cat(var_dic_list()) "
    }
   },
   "types_to_exclude": [
    "module",
    "function",
    "builtin_function_or_method",
    "instance",
    "_Feature"
   ],
   "window_display": false
  }
 },
 "nbformat": 4,
 "nbformat_minor": 2
}
